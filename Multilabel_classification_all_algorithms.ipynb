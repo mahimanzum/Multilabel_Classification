{
  "nbformat": 4,
  "nbformat_minor": 0,
  "metadata": {
    "colab": {
      "name": "NN_MNIST.ipynb",
      "provenance": []
    },
    "kernelspec": {
      "name": "python3",
      "display_name": "Python 3"
    },
    "language_info": {
      "name": "python"
    },
    "accelerator": "GPU"
  },
  "cells": [
    {
      "cell_type": "code",
      "execution_count": null,
      "metadata": {
        "colab": {
          "base_uri": "https://localhost:8080/",
          "height": 87
        },
        "id": "C2h2Sx5SPRua",
        "outputId": "49169290-f08b-4249-8697-f22b6e7667e3"
      },
      "outputs": [
        {
          "output_type": "stream",
          "name": "stdout",
          "text": [
            "Done\n"
          ]
        },
        {
          "output_type": "execute_result",
          "data": {
            "text/plain": [
              "'\\nw, l, train_acc, test_acc = train(TRAIN_X, TRAIN_Y, bs=256, epochs=40)\\nplt.plot([i for i in range(1, 101)], train_acc, label = \"Training Accuracy\")\\nplt.plot([i for i in range(1, 101)], test_acc, label = \"Testing Accuracy\")\\nplt.legend()\\nplt.savefig(\\'train_test.png\\', dpi=300)\\nplt.clf()\\nplt.plot([i for i in range(1, 101)], l, label = \"Log Liklihood\")\\nplt.legend()\\nplt.savefig(\\'log_liklihood.png\\', dpi=300)\\nplt.clf()\\n#print(TRAIN_X[1])\\n#print(TRAIN_X.shape)\\n'"
            ],
            "application/vnd.google.colaboratory.intrinsic+json": {
              "type": "string"
            }
          },
          "metadata": {},
          "execution_count": 22
        }
      ],
      "source": [
        "#!pip install idx2numpy\n",
        "\n",
        "import os \n",
        "import idx2numpy\n",
        "import torch\n",
        "import matplotlib.pyplot as plt\n",
        "import numpy as np\n",
        "from sklearn.metrics import accuracy_score\n",
        "import torch.nn as nn\n",
        "import torch.nn.functional as F\n",
        "from torch.optim import Adam\n",
        "from tqdm import tqdm\n",
        "\n",
        "\n",
        "if not os.path.isfile(\"./MNIST.tar.gz\"):\n",
        "    print(\"downloading MNIST zip data\")\n",
        "    os.system(\"wget www.di.ens.fr/~lelarge/MNIST.tar.gz\")\n",
        "if not os.path.exists(\"MNIST\"):\n",
        "    print(\"Unzipping files\")\n",
        "    os.system(\"tar -zxvf MNIST.tar.gz\")\n",
        "print(\"Done\")\n",
        "\n",
        "train_x = idx2numpy.convert_from_file(\"MNIST/raw/train-images-idx3-ubyte\")\n",
        "train_y = idx2numpy.convert_from_file(\"MNIST/raw/train-labels-idx1-ubyte\")\n",
        "\n",
        "test_x = idx2numpy.convert_from_file(\"MNIST/raw/t10k-images-idx3-ubyte\")\n",
        "test_y = idx2numpy.convert_from_file(\"MNIST/raw/t10k-labels-idx1-ubyte\")\n",
        "\n",
        "# preprocess the data\n",
        "\n",
        "TRAIN_X, TRAIN_Y, TEST_X, TEST_Y = [], [], [], []\n",
        "for idx, label in enumerate(train_y):\n",
        "    TRAIN_X.append(train_x[idx].reshape(-1, )/255.0)\n",
        "    TRAIN_Y.append(label)\n",
        "    \n",
        "for idx, label in enumerate(test_y):\n",
        "    TEST_X.append(test_x[idx].reshape(-1, )/255.0)\n",
        "    TEST_Y.append(label)\n",
        "    \n",
        "TRAIN_X = np.array(TRAIN_X)\n",
        "TRAIN_Y = np.array(TRAIN_Y)\n",
        "TEST_X = np.array(TEST_X)\n",
        "TEST_Y = np.array(TEST_Y)\n",
        "\n",
        "device = 'cuda' if torch.cuda.is_available() else 'cpu'\n",
        "\n",
        "\n",
        "class Network(nn.Module):\n",
        "\n",
        "    def __init__(self):\n",
        "        super().__init__()\n",
        "\n",
        "        self.fc1 = nn.Linear(784, 32)\n",
        "        self.fc2 = nn.Linear(32, 10)\n",
        "        \n",
        "    def forward(self,x):\n",
        "        x = F.sigmoid(self.fc1(x))\n",
        "        x = self.fc2(x)\n",
        "\n",
        "        return x\n",
        "\n",
        "def train(X, y, bs, epochs):\n",
        "    \n",
        "    # X --> Input.\n",
        "    # y --> true/target value.\n",
        "    # bs --> Batch Size.\n",
        "    # epochs --> Number of iterations.\n",
        "    # lr --> Learning rate. \n",
        "    # m-> number of training examples\n",
        "    # n-> number of features \n",
        "    m, n = X.shape\n",
        "    \n",
        "    net = Network().to(device)\n",
        "    optm = Adam(net.parameters(), lr = 0.001)\n",
        "    criterion = nn.CrossEntropyLoss()\n",
        "\n",
        "    losses = []\n",
        "    train_acc = []\n",
        "    test_acc = []\n",
        "    # Training loop.\n",
        "    #print(\"comes in training loop\")\n",
        "    pbar =tqdm(range(epochs))\n",
        "    for epoch in pbar:\n",
        "        epoch_loss = 0\n",
        "        for i in range((m-1)//bs + 1):\n",
        "            start_i = i*bs\n",
        "            end_i = start_i + bs\n",
        "            xb = X[start_i:end_i]\n",
        "            yb = y[start_i:end_i]\n",
        "            #print(\"in batch calculation\")\n",
        "            net.zero_grad()\n",
        "            output = net(torch.from_numpy(xb).float().to(device))\n",
        "            \n",
        "            loss=criterion(output, torch.from_numpy(yb).to(device))\n",
        "            epoch_loss+=loss.item()\n",
        "            loss.backward()\n",
        "            optm.step()\n",
        "        print(\"loss = \", epoch_loss)\n",
        "            \n",
        "            \n",
        "    '''\n",
        "        #tr_acc = accuracy_score(TRAIN_Y, predict(TRAIN_X, w))\n",
        "        #te_acc = accuracy_score(TEST_Y, predict(TEST_X, w))\n",
        "        #losses.append(l)\n",
        "        #train_acc.append(tr_acc)\n",
        "        #test_acc.append(te_acc)\n",
        "        #print(\"loss = \", l)\n",
        "        #print(\"training accuracy \", tr_acc)\n",
        "        #print(\"testing accuracy \", te_acc)\n",
        "        \n",
        "    # returning weights, bias and losses(List).\n",
        "    #return w,losses, train_acc, test_acc\n",
        "    '''\n",
        "\n",
        "\n",
        "def predict(X, w):\n",
        "    # X --> Input.\n",
        "    \n",
        "    # Calculating presictions/y_hat.\n",
        "    preds = sigmoid(np.dot(X, w))\n",
        "    pred_class = []\n",
        "    pred_class = [1 if i > 0.5 else 0 for i in preds]\n",
        "    \n",
        "    return np.array(pred_class)\n",
        "\n",
        "'''\n",
        "w, l, train_acc, test_acc = train(TRAIN_X, TRAIN_Y, bs=256, epochs=40)\n",
        "plt.plot([i for i in range(1, 101)], train_acc, label = \"Training Accuracy\")\n",
        "plt.plot([i for i in range(1, 101)], test_acc, label = \"Testing Accuracy\")\n",
        "plt.legend()\n",
        "plt.savefig('train_test.png', dpi=300)\n",
        "plt.clf()\n",
        "plt.plot([i for i in range(1, 101)], l, label = \"Log Liklihood\")\n",
        "plt.legend()\n",
        "plt.savefig('log_liklihood.png', dpi=300)\n",
        "plt.clf()\n",
        "#print(TRAIN_X[1])\n",
        "#print(TRAIN_X.shape)\n",
        "'''"
      ]
    },
    {
      "cell_type": "code",
      "source": [
        "train(TRAIN_X, TRAIN_Y, bs=256, epochs=40)"
      ],
      "metadata": {
        "colab": {
          "base_uri": "https://localhost:8080/"
        },
        "id": "7WaMsyErPcSD",
        "outputId": "cbcf6a9c-c94c-4fda-de85-c0ba44208b69"
      },
      "execution_count": null,
      "outputs": [
        {
          "output_type": "stream",
          "name": "stderr",
          "text": [
            "\r  0%|          | 0/40 [00:00<?, ?it/s]/usr/local/lib/python3.7/dist-packages/torch/nn/functional.py:1806: UserWarning: nn.functional.sigmoid is deprecated. Use torch.sigmoid instead.\n",
            "  warnings.warn(\"nn.functional.sigmoid is deprecated. Use torch.sigmoid instead.\")\n",
            "  2%|▎         | 1/40 [00:00<00:21,  1.77it/s]"
          ]
        },
        {
          "output_type": "stream",
          "name": "stdout",
          "text": [
            "loss =  326.7388833165169\n"
          ]
        },
        {
          "output_type": "stream",
          "name": "stderr",
          "text": [
            "\r  5%|▌         | 2/40 [00:01<00:21,  1.75it/s]"
          ]
        },
        {
          "output_type": "stream",
          "name": "stdout",
          "text": [
            "loss =  143.61013171076775\n"
          ]
        },
        {
          "output_type": "stream",
          "name": "stderr",
          "text": [
            "\r  8%|▊         | 3/40 [00:01<00:21,  1.74it/s]"
          ]
        },
        {
          "output_type": "stream",
          "name": "stdout",
          "text": [
            "loss =  98.6729175299406\n"
          ]
        },
        {
          "output_type": "stream",
          "name": "stderr",
          "text": [
            "\r 10%|█         | 4/40 [00:02<00:20,  1.75it/s]"
          ]
        },
        {
          "output_type": "stream",
          "name": "stdout",
          "text": [
            "loss =  80.68870174884796\n"
          ]
        },
        {
          "output_type": "stream",
          "name": "stderr",
          "text": [
            "\r 12%|█▎        | 5/40 [00:02<00:19,  1.76it/s]"
          ]
        },
        {
          "output_type": "stream",
          "name": "stdout",
          "text": [
            "loss =  70.81032879650593\n"
          ]
        },
        {
          "output_type": "stream",
          "name": "stderr",
          "text": [
            "\r 15%|█▌        | 6/40 [00:03<00:19,  1.78it/s]"
          ]
        },
        {
          "output_type": "stream",
          "name": "stdout",
          "text": [
            "loss =  64.32620631158352\n"
          ]
        },
        {
          "output_type": "stream",
          "name": "stderr",
          "text": [
            "\r 18%|█▊        | 7/40 [00:03<00:18,  1.77it/s]"
          ]
        },
        {
          "output_type": "stream",
          "name": "stdout",
          "text": [
            "loss =  59.57325516268611\n"
          ]
        },
        {
          "output_type": "stream",
          "name": "stderr",
          "text": [
            "\r 20%|██        | 8/40 [00:04<00:17,  1.78it/s]"
          ]
        },
        {
          "output_type": "stream",
          "name": "stdout",
          "text": [
            "loss =  55.83101975172758\n"
          ]
        },
        {
          "output_type": "stream",
          "name": "stderr",
          "text": [
            "\r 22%|██▎       | 9/40 [00:05<00:17,  1.77it/s]"
          ]
        },
        {
          "output_type": "stream",
          "name": "stdout",
          "text": [
            "loss =  52.73806868493557\n"
          ]
        },
        {
          "output_type": "stream",
          "name": "stderr",
          "text": [
            "\r 25%|██▌       | 10/40 [00:05<00:16,  1.78it/s]"
          ]
        },
        {
          "output_type": "stream",
          "name": "stdout",
          "text": [
            "loss =  50.09418908134103\n"
          ]
        },
        {
          "output_type": "stream",
          "name": "stderr",
          "text": [
            "\r 28%|██▊       | 11/40 [00:06<00:16,  1.77it/s]"
          ]
        },
        {
          "output_type": "stream",
          "name": "stdout",
          "text": [
            "loss =  47.77778949216008\n"
          ]
        },
        {
          "output_type": "stream",
          "name": "stderr",
          "text": [
            "\r 30%|███       | 12/40 [00:06<00:15,  1.76it/s]"
          ]
        },
        {
          "output_type": "stream",
          "name": "stdout",
          "text": [
            "loss =  45.71025600656867\n"
          ]
        },
        {
          "output_type": "stream",
          "name": "stderr",
          "text": [
            "\r 32%|███▎      | 13/40 [00:07<00:15,  1.76it/s]"
          ]
        },
        {
          "output_type": "stream",
          "name": "stdout",
          "text": [
            "loss =  43.84010710567236\n"
          ]
        },
        {
          "output_type": "stream",
          "name": "stderr",
          "text": [
            "\r 35%|███▌      | 14/40 [00:07<00:14,  1.76it/s]"
          ]
        },
        {
          "output_type": "stream",
          "name": "stdout",
          "text": [
            "loss =  42.132908061146736\n"
          ]
        },
        {
          "output_type": "stream",
          "name": "stderr",
          "text": [
            "\r 38%|███▊      | 15/40 [00:08<00:14,  1.76it/s]"
          ]
        },
        {
          "output_type": "stream",
          "name": "stdout",
          "text": [
            "loss =  40.56443577259779\n"
          ]
        },
        {
          "output_type": "stream",
          "name": "stderr",
          "text": [
            "\r 40%|████      | 16/40 [00:09<00:13,  1.76it/s]"
          ]
        },
        {
          "output_type": "stream",
          "name": "stdout",
          "text": [
            "loss =  39.11621868982911\n"
          ]
        },
        {
          "output_type": "stream",
          "name": "stderr",
          "text": [
            "\r 42%|████▎     | 17/40 [00:09<00:12,  1.77it/s]"
          ]
        },
        {
          "output_type": "stream",
          "name": "stdout",
          "text": [
            "loss =  37.77319944836199\n"
          ]
        },
        {
          "output_type": "stream",
          "name": "stderr",
          "text": [
            "\r 45%|████▌     | 18/40 [00:10<00:12,  1.77it/s]"
          ]
        },
        {
          "output_type": "stream",
          "name": "stdout",
          "text": [
            "loss =  36.52312131226063\n"
          ]
        },
        {
          "output_type": "stream",
          "name": "stderr",
          "text": [
            "\r 48%|████▊     | 19/40 [00:10<00:11,  1.78it/s]"
          ]
        },
        {
          "output_type": "stream",
          "name": "stdout",
          "text": [
            "loss =  35.35619637556374\n"
          ]
        },
        {
          "output_type": "stream",
          "name": "stderr",
          "text": [
            "\r 50%|█████     | 20/40 [00:11<00:11,  1.78it/s]"
          ]
        },
        {
          "output_type": "stream",
          "name": "stdout",
          "text": [
            "loss =  34.264586666598916\n"
          ]
        },
        {
          "output_type": "stream",
          "name": "stderr",
          "text": [
            "\r 52%|█████▎    | 21/40 [00:11<00:10,  1.78it/s]"
          ]
        },
        {
          "output_type": "stream",
          "name": "stdout",
          "text": [
            "loss =  33.24197067506611\n"
          ]
        },
        {
          "output_type": "stream",
          "name": "stderr",
          "text": [
            "\r 55%|█████▌    | 22/40 [00:12<00:10,  1.78it/s]"
          ]
        },
        {
          "output_type": "stream",
          "name": "stdout",
          "text": [
            "loss =  32.28260404057801\n"
          ]
        },
        {
          "output_type": "stream",
          "name": "stderr",
          "text": [
            "\r 57%|█████▊    | 23/40 [00:13<00:09,  1.77it/s]"
          ]
        },
        {
          "output_type": "stream",
          "name": "stdout",
          "text": [
            "loss =  31.380671614781022\n"
          ]
        },
        {
          "output_type": "stream",
          "name": "stderr",
          "text": [
            "\r 60%|██████    | 24/40 [00:13<00:09,  1.77it/s]"
          ]
        },
        {
          "output_type": "stream",
          "name": "stdout",
          "text": [
            "loss =  30.530611900612712\n"
          ]
        },
        {
          "output_type": "stream",
          "name": "stderr",
          "text": [
            "\r 62%|██████▎   | 25/40 [00:14<00:08,  1.77it/s]"
          ]
        },
        {
          "output_type": "stream",
          "name": "stdout",
          "text": [
            "loss =  29.727500999346375\n"
          ]
        },
        {
          "output_type": "stream",
          "name": "stderr",
          "text": [
            "\r 65%|██████▌   | 26/40 [00:14<00:07,  1.77it/s]"
          ]
        },
        {
          "output_type": "stream",
          "name": "stdout",
          "text": [
            "loss =  28.967193203046918\n"
          ]
        },
        {
          "output_type": "stream",
          "name": "stderr",
          "text": [
            "\r 68%|██████▊   | 27/40 [00:15<00:07,  1.76it/s]"
          ]
        },
        {
          "output_type": "stream",
          "name": "stdout",
          "text": [
            "loss =  28.246217768639326\n"
          ]
        },
        {
          "output_type": "stream",
          "name": "stderr",
          "text": [
            "\r 70%|███████   | 28/40 [00:15<00:06,  1.78it/s]"
          ]
        },
        {
          "output_type": "stream",
          "name": "stdout",
          "text": [
            "loss =  27.56147420965135\n"
          ]
        },
        {
          "output_type": "stream",
          "name": "stderr",
          "text": [
            "\r 72%|███████▎  | 29/40 [00:16<00:06,  1.78it/s]"
          ]
        },
        {
          "output_type": "stream",
          "name": "stdout",
          "text": [
            "loss =  26.909995049238205\n"
          ]
        },
        {
          "output_type": "stream",
          "name": "stderr",
          "text": [
            "\r 75%|███████▌  | 30/40 [00:16<00:05,  1.78it/s]"
          ]
        },
        {
          "output_type": "stream",
          "name": "stdout",
          "text": [
            "loss =  26.288969561457634\n"
          ]
        },
        {
          "output_type": "stream",
          "name": "stderr",
          "text": [
            "\r 78%|███████▊  | 31/40 [00:17<00:05,  1.77it/s]"
          ]
        },
        {
          "output_type": "stream",
          "name": "stdout",
          "text": [
            "loss =  25.695813473314047\n"
          ]
        },
        {
          "output_type": "stream",
          "name": "stderr",
          "text": [
            "\r 80%|████████  | 32/40 [00:18<00:04,  1.76it/s]"
          ]
        },
        {
          "output_type": "stream",
          "name": "stdout",
          "text": [
            "loss =  25.128172129392624\n"
          ]
        },
        {
          "output_type": "stream",
          "name": "stderr",
          "text": [
            "\r 82%|████████▎ | 33/40 [00:18<00:03,  1.78it/s]"
          ]
        },
        {
          "output_type": "stream",
          "name": "stdout",
          "text": [
            "loss =  24.583891961723566\n"
          ]
        },
        {
          "output_type": "stream",
          "name": "stderr",
          "text": [
            "\r 85%|████████▌ | 34/40 [00:19<00:03,  1.79it/s]"
          ]
        },
        {
          "output_type": "stream",
          "name": "stdout",
          "text": [
            "loss =  24.061030821874738\n"
          ]
        },
        {
          "output_type": "stream",
          "name": "stderr",
          "text": [
            "\r 88%|████████▊ | 35/40 [00:19<00:02,  1.78it/s]"
          ]
        },
        {
          "output_type": "stream",
          "name": "stdout",
          "text": [
            "loss =  23.557867992669344\n"
          ]
        },
        {
          "output_type": "stream",
          "name": "stderr",
          "text": [
            "\r 90%|█████████ | 36/40 [00:20<00:02,  1.76it/s]"
          ]
        },
        {
          "output_type": "stream",
          "name": "stdout",
          "text": [
            "loss =  23.07290417421609\n"
          ]
        },
        {
          "output_type": "stream",
          "name": "stderr",
          "text": [
            "\r 92%|█████████▎| 37/40 [00:20<00:01,  1.75it/s]"
          ]
        },
        {
          "output_type": "stream",
          "name": "stdout",
          "text": [
            "loss =  22.60484301391989\n"
          ]
        },
        {
          "output_type": "stream",
          "name": "stderr",
          "text": [
            "\r 95%|█████████▌| 38/40 [00:21<00:01,  1.76it/s]"
          ]
        },
        {
          "output_type": "stream",
          "name": "stdout",
          "text": [
            "loss =  22.152578975073993\n"
          ]
        },
        {
          "output_type": "stream",
          "name": "stderr",
          "text": [
            "\r 98%|█████████▊| 39/40 [00:22<00:00,  1.77it/s]"
          ]
        },
        {
          "output_type": "stream",
          "name": "stdout",
          "text": [
            "loss =  21.71517027914524\n"
          ]
        },
        {
          "output_type": "stream",
          "name": "stderr",
          "text": [
            "100%|██████████| 40/40 [00:22<00:00,  1.77it/s]"
          ]
        },
        {
          "output_type": "stream",
          "name": "stdout",
          "text": [
            "loss =  21.291793935000896\n"
          ]
        },
        {
          "output_type": "stream",
          "name": "stderr",
          "text": [
            "\n"
          ]
        }
      ]
    },
    {
      "cell_type": "code",
      "source": [
        "\n",
        "# logistic regression for multi-class classification using built-in one-vs-rest\n",
        "from sklearn.datasets import make_classification\n",
        "from sklearn.linear_model import LogisticRegression\n",
        "# define dataset\n",
        "X, y = make_classification(n_samples=1000, n_features=10, n_informative=5, n_redundant=5, n_classes=3, random_state=1)\n",
        "# define model\n",
        "model = LogisticRegression(multi_class='ovr')\n",
        "# fit model\n",
        "model.fit(X, y)\n",
        "# make predictions\n",
        "yhat = model.predict(X)"
      ],
      "metadata": {
        "id": "tEKndUgKPmZV"
      },
      "execution_count": null,
      "outputs": []
    },
    {
      "cell_type": "code",
      "source": [
        "make_classification(n_samples=1000, n_features=10, n_informative=5, n_redundant=5, n_classes=3, random_state=1)\n"
      ],
      "metadata": {
        "colab": {
          "base_uri": "https://localhost:8080/"
        },
        "id": "KbY3Y_yo_Msk",
        "outputId": "3268c22a-8696-4132-9124-36971ccba1e5"
      },
      "execution_count": null,
      "outputs": [
        {
          "output_type": "execute_result",
          "data": {
            "text/plain": [
              "(array([[ 1.89149379, -0.39847585,  1.63856893, ...,  0.58810926,\n",
              "         -0.02542177, -0.52835426],\n",
              "        [ 1.86913773, -0.56336215,  2.03411807, ..., -0.55633   ,\n",
              "         -0.27340013,  0.72129251],\n",
              "        [ 1.95259701, -2.83144572,  0.19055535, ..., -0.60957741,\n",
              "         -2.07750191, -1.75469982],\n",
              "        ...,\n",
              "        [ 1.98033054,  1.37228804,  1.67376262, ...,  2.75687956,\n",
              "         -0.20719842,  0.39299534],\n",
              "        [-1.54305631, -0.27530218,  0.38744703, ...,  0.72769107,\n",
              "          0.51983329, -1.92306657],\n",
              "        [ 1.17970389, -3.3812155 , -0.1498426 , ...,  1.24640268,\n",
              "         -4.00356845, -3.01027048]]),\n",
              " array([1, 0, 1, 2, 0, 2, 2, 2, 0, 0, 1, 0, 2, 2, 0, 1, 1, 0, 1, 0, 2, 0,\n",
              "        2, 2, 0, 0, 2, 0, 1, 1, 2, 1, 0, 2, 0, 0, 0, 1, 2, 2, 2, 1, 0, 1,\n",
              "        1, 1, 0, 0, 1, 1, 1, 1, 2, 1, 1, 2, 2, 2, 1, 0, 2, 2, 2, 1, 2, 1,\n",
              "        1, 0, 0, 0, 2, 1, 1, 0, 0, 0, 0, 0, 2, 1, 2, 0, 2, 0, 1, 2, 2, 2,\n",
              "        0, 1, 0, 2, 1, 0, 2, 1, 1, 2, 0, 1, 0, 0, 1, 1, 1, 0, 2, 2, 2, 2,\n",
              "        1, 2, 0, 2, 0, 0, 0, 0, 0, 1, 2, 2, 1, 2, 2, 2, 2, 2, 1, 0, 0, 1,\n",
              "        0, 0, 2, 2, 0, 0, 1, 1, 1, 1, 0, 2, 0, 1, 2, 0, 2, 1, 2, 0, 0, 1,\n",
              "        0, 0, 2, 2, 2, 2, 2, 1, 2, 0, 1, 2, 2, 0, 2, 1, 0, 0, 0, 0, 0, 0,\n",
              "        2, 0, 2, 1, 2, 0, 0, 0, 0, 0, 0, 1, 1, 0, 1, 2, 1, 0, 2, 1, 1, 0,\n",
              "        1, 1, 1, 1, 2, 1, 0, 2, 2, 1, 2, 1, 1, 2, 0, 0, 0, 2, 2, 2, 0, 2,\n",
              "        0, 1, 1, 2, 1, 1, 1, 1, 2, 1, 0, 1, 1, 2, 1, 1, 1, 1, 2, 0, 2, 2,\n",
              "        1, 1, 0, 1, 0, 0, 1, 1, 2, 2, 2, 2, 1, 2, 1, 1, 0, 1, 1, 1, 1, 2,\n",
              "        1, 2, 1, 2, 0, 0, 0, 2, 1, 1, 0, 0, 1, 2, 2, 0, 1, 0, 0, 1, 1, 1,\n",
              "        1, 2, 1, 2, 2, 2, 1, 0, 0, 1, 0, 0, 2, 1, 1, 0, 2, 2, 0, 2, 0, 2,\n",
              "        1, 0, 2, 2, 1, 1, 2, 1, 2, 2, 2, 0, 1, 0, 1, 2, 1, 0, 2, 2, 0, 1,\n",
              "        2, 1, 2, 1, 1, 2, 0, 1, 0, 0, 1, 2, 2, 1, 2, 2, 2, 0, 1, 1, 0, 1,\n",
              "        2, 0, 2, 0, 0, 0, 1, 2, 1, 0, 0, 0, 1, 0, 0, 1, 1, 1, 0, 2, 0, 0,\n",
              "        1, 0, 1, 1, 1, 2, 1, 2, 0, 2, 1, 2, 0, 1, 1, 1, 1, 0, 0, 0, 1, 2,\n",
              "        2, 1, 0, 2, 2, 1, 0, 1, 1, 0, 1, 2, 0, 0, 2, 1, 0, 2, 0, 0, 1, 2,\n",
              "        0, 2, 2, 0, 2, 2, 2, 0, 2, 2, 0, 2, 1, 0, 0, 1, 1, 2, 1, 2, 1, 0,\n",
              "        0, 1, 2, 1, 2, 1, 0, 1, 0, 1, 0, 0, 0, 2, 1, 0, 0, 1, 2, 1, 0, 0,\n",
              "        0, 0, 0, 1, 0, 0, 1, 2, 1, 1, 1, 0, 1, 1, 2, 2, 0, 1, 2, 2, 0, 2,\n",
              "        2, 0, 1, 0, 2, 2, 1, 1, 2, 2, 2, 0, 2, 2, 0, 0, 1, 0, 1, 1, 1, 1,\n",
              "        0, 1, 0, 1, 1, 1, 2, 2, 1, 2, 2, 2, 2, 2, 0, 1, 0, 0, 0, 1, 1, 1,\n",
              "        2, 1, 1, 2, 0, 0, 0, 1, 2, 1, 0, 0, 0, 0, 0, 0, 1, 1, 1, 2, 0, 1,\n",
              "        0, 1, 2, 2, 2, 1, 1, 1, 1, 0, 0, 2, 0, 2, 0, 2, 1, 0, 2, 0, 1, 1,\n",
              "        0, 1, 2, 0, 1, 1, 1, 2, 2, 2, 2, 0, 1, 0, 0, 2, 0, 2, 2, 2, 2, 0,\n",
              "        0, 2, 0, 0, 2, 1, 1, 0, 1, 2, 0, 0, 0, 0, 0, 1, 2, 2, 1, 1, 1, 1,\n",
              "        1, 1, 2, 2, 2, 0, 1, 1, 0, 1, 2, 1, 1, 0, 2, 2, 0, 2, 1, 0, 0, 2,\n",
              "        2, 2, 0, 2, 1, 0, 0, 0, 2, 1, 0, 1, 1, 0, 2, 0, 2, 2, 0, 2, 1, 2,\n",
              "        2, 2, 2, 0, 1, 2, 2, 2, 0, 1, 2, 2, 0, 1, 0, 0, 0, 2, 1, 0, 0, 1,\n",
              "        1, 0, 1, 0, 2, 0, 2, 1, 1, 2, 1, 0, 1, 2, 1, 2, 2, 2, 2, 1, 0, 2,\n",
              "        2, 2, 0, 0, 1, 0, 0, 2, 1, 0, 1, 2, 0, 0, 1, 0, 1, 1, 1, 2, 2, 1,\n",
              "        2, 1, 1, 0, 2, 1, 0, 1, 1, 2, 1, 1, 1, 0, 2, 0, 2, 0, 0, 1, 0, 0,\n",
              "        0, 0, 0, 1, 2, 0, 0, 2, 0, 1, 0, 0, 2, 0, 1, 1, 0, 0, 0, 2, 2, 0,\n",
              "        2, 0, 0, 2, 2, 1, 0, 1, 1, 2, 0, 0, 0, 0, 2, 1, 1, 1, 1, 1, 2, 0,\n",
              "        0, 0, 0, 0, 0, 2, 2, 0, 0, 0, 0, 2, 0, 2, 0, 1, 2, 2, 0, 2, 0, 1,\n",
              "        1, 0, 2, 1, 2, 1, 2, 1, 2, 1, 1, 2, 0, 2, 2, 0, 1, 2, 1, 2, 1, 2,\n",
              "        0, 1, 2, 1, 1, 0, 0, 0, 2, 2, 1, 1, 2, 2, 2, 2, 0, 1, 2, 0, 2, 2,\n",
              "        1, 2, 1, 2, 2, 2, 1, 0, 0, 0, 0, 0, 0, 0, 1, 2, 2, 2, 2, 2, 1, 0,\n",
              "        2, 0, 2, 2, 1, 1, 0, 2, 1, 0, 0, 1, 1, 2, 1, 2, 2, 2, 0, 0, 2, 1,\n",
              "        2, 0, 0, 1, 1, 0, 1, 1, 1, 0, 2, 0, 0, 1, 2, 2, 1, 2, 2, 2, 2, 1,\n",
              "        2, 0, 0, 0, 1, 2, 0, 1, 1, 1, 2, 1, 0, 1, 1, 0, 2, 2, 0, 2, 2, 1,\n",
              "        2, 2, 1, 2, 2, 2, 1, 2, 2, 0, 0, 1, 1, 0, 0, 2, 1, 0, 0, 2, 1, 1,\n",
              "        1, 2, 2, 0, 2, 1, 1, 2, 1, 1, 1, 2, 0, 2, 1, 2, 0, 1, 0, 2, 0, 2,\n",
              "        1, 1, 2, 1, 2, 2, 1, 0, 2, 1]))"
            ]
          },
          "metadata": {},
          "execution_count": 8
        }
      ]
    },
    {
      "cell_type": "code",
      "source": [
        "# example of a multi-label classification task\n",
        "from sklearn.datasets import make_multilabel_classification\n",
        "from sklearn.model_selection import train_test_split\n",
        "# define dataset\n",
        "X, y = make_multilabel_classification(n_samples=2000, n_features=10, n_classes=3, n_labels=2, random_state=1)\n",
        "# summarize dataset shape\n",
        "print(X.shape, y.shape)\n",
        "# summarize first few examples\n",
        "for i in range(10):\n",
        "\tprint(X[i], y[i])\n",
        "X_train, X_test, y_train, y_test = train_test_split(X, y, test_size=0.2, random_state=42)"
      ],
      "metadata": {
        "colab": {
          "base_uri": "https://localhost:8080/"
        },
        "id": "WTY6wuLo_fQG",
        "outputId": "95d6f488-21fc-4efb-c32f-723c4a29c9b8"
      },
      "execution_count": null,
      "outputs": [
        {
          "output_type": "stream",
          "name": "stdout",
          "text": [
            "(2000, 10) (2000, 3)\n",
            "[ 3.  3.  6.  7.  8.  2. 11. 11.  1.  3.] [1 1 0]\n",
            "[7. 6. 4. 4. 6. 8. 3. 4. 6. 4.] [0 0 0]\n",
            "[ 5.  5. 13.  7.  6.  3.  6. 11.  4.  2.] [1 1 0]\n",
            "[1. 1. 5. 5. 7. 3. 4. 6. 4. 4.] [1 1 1]\n",
            "[ 4.  2.  3. 13.  7.  2.  4. 12.  1.  7.] [0 1 0]\n",
            "[ 4.  3.  3.  2.  5.  2.  3.  7.  2. 10.] [0 0 0]\n",
            "[ 3.  3.  3. 11.  6.  3.  4. 14.  1.  3.] [0 1 0]\n",
            "[ 2.  1.  7.  8.  4.  5. 10.  4.  6.  6.] [1 1 1]\n",
            "[ 5.  1.  9.  5.  3.  4. 11.  8.  1.  8.] [1 1 1]\n",
            "[ 2. 11.  7.  6.  2.  2.  9. 11.  9.  3.] [1 1 1]\n"
          ]
        }
      ]
    },
    {
      "cell_type": "code",
      "source": [
        "from sklearn.linear_model import LogisticRegression\n",
        "from sklearn.pipeline import Pipeline\n",
        "from sklearn.metrics import accuracy_score\n",
        "from sklearn.multiclass import OneVsRestClassifier\n",
        "# Using pipeline for applying logistic regression and one vs rest classifier\n",
        "LogReg_pipeline = Pipeline([\n",
        "                ('clf', OneVsRestClassifier(LogisticRegression(solver='sag'), n_jobs=-1)),\n",
        "            ])\n",
        "for category in range(3):\n",
        "    print('**Processing {} comments...**'.format(category))\n",
        "    \n",
        "    # Training logistic regression model on train data\n",
        "    LogReg_pipeline.fit(X_train,[y[category] for y in y_train])\n",
        "    \n",
        "    # calculating test accuracy\n",
        "    prediction = LogReg_pipeline.predict(X_test)\n",
        "    print('Test accuracy is {}'.format(accuracy_score([y[category] for y in y_test], prediction)))\n",
        "    print(\"\\n\")"
      ],
      "metadata": {
        "colab": {
          "base_uri": "https://localhost:8080/"
        },
        "id": "9ZoKQS0nD7r8",
        "outputId": "b2b11a80-8496-46df-8a28-55ffe0a146c9"
      },
      "execution_count": null,
      "outputs": [
        {
          "output_type": "stream",
          "name": "stdout",
          "text": [
            "**Processing 0 comments...**\n",
            "Test accuracy is 0.8875\n",
            "\n",
            "\n",
            "**Processing 1 comments...**\n",
            "Test accuracy is 0.84\n",
            "\n",
            "\n",
            "**Processing 2 comments...**\n",
            "Test accuracy is 0.87\n",
            "\n",
            "\n"
          ]
        }
      ]
    },
    {
      "cell_type": "code",
      "source": [
        "# using binary relevance\n",
        "from skmultilearn.problem_transform import BinaryRelevance\n",
        "from sklearn.naive_bayes import GaussianNB\n",
        "# initialize binary relevance multi-label classifier\n",
        "# with a gaussian naive bayes base classifier\n",
        "classifier = BinaryRelevance(LogisticRegression())#,GaussianNB\n",
        "# train\n",
        "classifier.fit(X_train, y_train)\n",
        "# predict\n",
        "predictions = classifier.predict(X_test)\n",
        "# accuracy\n",
        "print(\"Accuracy = \",accuracy_score(y_test,predictions))\n"
      ],
      "metadata": {
        "colab": {
          "base_uri": "https://localhost:8080/"
        },
        "id": "L4hJkRsHE5Rg",
        "outputId": "ae83d0eb-b677-426b-f8f2-bfe8b6a4a13e"
      },
      "execution_count": null,
      "outputs": [
        {
          "output_type": "stream",
          "name": "stdout",
          "text": [
            "Accuracy =  0.685\n"
          ]
        }
      ]
    },
    {
      "cell_type": "code",
      "source": [
        "from skmultilearn.problem_transform import ClassifierChain\n",
        "from sklearn.linear_model import LogisticRegression\n",
        "# initialize classifier chains multi-label classifier\n",
        "classifier = ClassifierChain(LogisticRegression())\n",
        "# Training logistic regression model on train data\n",
        "classifier.fit(X_train, y_train)\n",
        "# predict\n",
        "predictions = classifier.predict(X_test)\n",
        "# accuracy\n",
        "print(\"Accuracy = \",accuracy_score(y_test,predictions))\n",
        "print(\"\\n\")"
      ],
      "metadata": {
        "colab": {
          "base_uri": "https://localhost:8080/"
        },
        "id": "bAR3veyoFS7E",
        "outputId": "53d78faa-fe25-4965-bf39-4636256e1760"
      },
      "execution_count": null,
      "outputs": [
        {
          "output_type": "stream",
          "name": "stdout",
          "text": [
            "Accuracy =  0.79\n",
            "\n",
            "\n"
          ]
        }
      ]
    },
    {
      "cell_type": "code",
      "source": [
        "# using Label Powerset\n",
        "from skmultilearn.problem_transform import LabelPowerset\n",
        "# initialize label powerset multi-label classifier\n",
        "classifier = LabelPowerset(LogisticRegression())\n",
        "# train\n",
        "classifier.fit(X_train, y_train)\n",
        "# predict\n",
        "predictions = classifier.predict(X_test)\n",
        "# accuracy\n",
        "print(\"Accuracy = \",accuracy_score(y_test,predictions))\n",
        "print(\"\\n\")\n"
      ],
      "metadata": {
        "colab": {
          "base_uri": "https://localhost:8080/"
        },
        "id": "RAMBZrvtFUTR",
        "outputId": "a9de3ca6-8931-444c-e7e7-711c47886944"
      },
      "execution_count": null,
      "outputs": [
        {
          "output_type": "stream",
          "name": "stdout",
          "text": [
            "Accuracy =  0.83\n",
            "\n",
            "\n"
          ]
        },
        {
          "output_type": "stream",
          "name": "stderr",
          "text": [
            "/usr/local/lib/python3.7/dist-packages/sklearn/linear_model/_logistic.py:818: ConvergenceWarning: lbfgs failed to converge (status=1):\n",
            "STOP: TOTAL NO. of ITERATIONS REACHED LIMIT.\n",
            "\n",
            "Increase the number of iterations (max_iter) or scale the data as shown in:\n",
            "    https://scikit-learn.org/stable/modules/preprocessing.html\n",
            "Please also refer to the documentation for alternative solver options:\n",
            "    https://scikit-learn.org/stable/modules/linear_model.html#logistic-regression\n",
            "  extra_warning_msg=_LOGISTIC_SOLVER_CONVERGENCE_MSG,\n"
          ]
        }
      ]
    },
    {
      "cell_type": "code",
      "source": [
        "from skmultilearn.adapt import MLkNN\n",
        "from scipy.sparse import csr_matrix, lil_matrix\n",
        "classifier_new = MLkNN(k=10)\n",
        "# Note that this classifier can throw up errors when handling sparse matrices.\n",
        "x_train = lil_matrix(X_train).toarray()\n",
        "y_train = lil_matrix(y_train).toarray()\n",
        "x_test = lil_matrix(X_test).toarray()\n",
        "# train\n",
        "classifier_new.fit(x_train, y_train)\n",
        "# predict\n",
        "predictions_new = classifier_new.predict(x_test)\n",
        "# accuracy\n",
        "print(\"Accuracy = \",accuracy_score(y_test,predictions_new))\n"
      ],
      "metadata": {
        "colab": {
          "base_uri": "https://localhost:8080/",
          "height": 380
        },
        "id": "XC3I15KjF__8",
        "outputId": "1e229aea-df8b-441f-a156-3124679d66a5"
      },
      "execution_count": null,
      "outputs": [
        {
          "output_type": "error",
          "ename": "TypeError",
          "evalue": "ignored",
          "traceback": [
            "\u001b[0;31m---------------------------------------------------------------------------\u001b[0m",
            "\u001b[0;31mTypeError\u001b[0m                                 Traceback (most recent call last)",
            "\u001b[0;32m<ipython-input-24-afb505e8a530>\u001b[0m in \u001b[0;36m<module>\u001b[0;34m()\u001b[0m\n\u001b[1;32m      7\u001b[0m \u001b[0mx_test\u001b[0m \u001b[0;34m=\u001b[0m \u001b[0mlil_matrix\u001b[0m\u001b[0;34m(\u001b[0m\u001b[0mX_test\u001b[0m\u001b[0;34m)\u001b[0m\u001b[0;34m.\u001b[0m\u001b[0mtoarray\u001b[0m\u001b[0;34m(\u001b[0m\u001b[0;34m)\u001b[0m\u001b[0;34m\u001b[0m\u001b[0;34m\u001b[0m\u001b[0m\n\u001b[1;32m      8\u001b[0m \u001b[0;31m# train\u001b[0m\u001b[0;34m\u001b[0m\u001b[0;34m\u001b[0m\u001b[0;34m\u001b[0m\u001b[0m\n\u001b[0;32m----> 9\u001b[0;31m \u001b[0mclassifier_new\u001b[0m\u001b[0;34m.\u001b[0m\u001b[0mfit\u001b[0m\u001b[0;34m(\u001b[0m\u001b[0mx_train\u001b[0m\u001b[0;34m,\u001b[0m \u001b[0my_train\u001b[0m\u001b[0;34m)\u001b[0m\u001b[0;34m\u001b[0m\u001b[0;34m\u001b[0m\u001b[0m\n\u001b[0m\u001b[1;32m     10\u001b[0m \u001b[0;31m# predict\u001b[0m\u001b[0;34m\u001b[0m\u001b[0;34m\u001b[0m\u001b[0;34m\u001b[0m\u001b[0m\n\u001b[1;32m     11\u001b[0m \u001b[0mpredictions_new\u001b[0m \u001b[0;34m=\u001b[0m \u001b[0mclassifier_new\u001b[0m\u001b[0;34m.\u001b[0m\u001b[0mpredict\u001b[0m\u001b[0;34m(\u001b[0m\u001b[0mx_test\u001b[0m\u001b[0;34m)\u001b[0m\u001b[0;34m\u001b[0m\u001b[0;34m\u001b[0m\u001b[0m\n",
            "\u001b[0;32m/usr/local/lib/python3.7/dist-packages/skmultilearn/adapt/mlknn.py\u001b[0m in \u001b[0;36mfit\u001b[0;34m(self, X, y)\u001b[0m\n\u001b[1;32m    216\u001b[0m         \u001b[0mself\u001b[0m\u001b[0;34m.\u001b[0m\u001b[0m_prior_prob_true\u001b[0m\u001b[0;34m,\u001b[0m \u001b[0mself\u001b[0m\u001b[0;34m.\u001b[0m\u001b[0m_prior_prob_false\u001b[0m \u001b[0;34m=\u001b[0m \u001b[0mself\u001b[0m\u001b[0;34m.\u001b[0m\u001b[0m_compute_prior\u001b[0m\u001b[0;34m(\u001b[0m\u001b[0mself\u001b[0m\u001b[0;34m.\u001b[0m\u001b[0m_label_cache\u001b[0m\u001b[0;34m)\u001b[0m\u001b[0;34m\u001b[0m\u001b[0;34m\u001b[0m\u001b[0m\n\u001b[1;32m    217\u001b[0m         \u001b[0;31m# Computing the posterior probabilities\u001b[0m\u001b[0;34m\u001b[0m\u001b[0;34m\u001b[0m\u001b[0;34m\u001b[0m\u001b[0m\n\u001b[0;32m--> 218\u001b[0;31m         \u001b[0mself\u001b[0m\u001b[0;34m.\u001b[0m\u001b[0m_cond_prob_true\u001b[0m\u001b[0;34m,\u001b[0m \u001b[0mself\u001b[0m\u001b[0;34m.\u001b[0m\u001b[0m_cond_prob_false\u001b[0m \u001b[0;34m=\u001b[0m \u001b[0mself\u001b[0m\u001b[0;34m.\u001b[0m\u001b[0m_compute_cond\u001b[0m\u001b[0;34m(\u001b[0m\u001b[0mX\u001b[0m\u001b[0;34m,\u001b[0m \u001b[0mself\u001b[0m\u001b[0;34m.\u001b[0m\u001b[0m_label_cache\u001b[0m\u001b[0;34m)\u001b[0m\u001b[0;34m\u001b[0m\u001b[0;34m\u001b[0m\u001b[0m\n\u001b[0m\u001b[1;32m    219\u001b[0m         \u001b[0;32mreturn\u001b[0m \u001b[0mself\u001b[0m\u001b[0;34m\u001b[0m\u001b[0;34m\u001b[0m\u001b[0m\n\u001b[1;32m    220\u001b[0m \u001b[0;34m\u001b[0m\u001b[0m\n",
            "\u001b[0;32m/usr/local/lib/python3.7/dist-packages/skmultilearn/adapt/mlknn.py\u001b[0m in \u001b[0;36m_compute_cond\u001b[0;34m(self, X, y)\u001b[0m\n\u001b[1;32m    163\u001b[0m         \"\"\"\n\u001b[1;32m    164\u001b[0m \u001b[0;34m\u001b[0m\u001b[0m\n\u001b[0;32m--> 165\u001b[0;31m         \u001b[0mself\u001b[0m\u001b[0;34m.\u001b[0m\u001b[0mknn_\u001b[0m \u001b[0;34m=\u001b[0m \u001b[0mNearestNeighbors\u001b[0m\u001b[0;34m(\u001b[0m\u001b[0mself\u001b[0m\u001b[0;34m.\u001b[0m\u001b[0mk\u001b[0m\u001b[0;34m)\u001b[0m\u001b[0;34m.\u001b[0m\u001b[0mfit\u001b[0m\u001b[0;34m(\u001b[0m\u001b[0mX\u001b[0m\u001b[0;34m)\u001b[0m\u001b[0;34m\u001b[0m\u001b[0;34m\u001b[0m\u001b[0m\n\u001b[0m\u001b[1;32m    166\u001b[0m         \u001b[0mc\u001b[0m \u001b[0;34m=\u001b[0m \u001b[0msparse\u001b[0m\u001b[0;34m.\u001b[0m\u001b[0mlil_matrix\u001b[0m\u001b[0;34m(\u001b[0m\u001b[0;34m(\u001b[0m\u001b[0mself\u001b[0m\u001b[0;34m.\u001b[0m\u001b[0m_num_labels\u001b[0m\u001b[0;34m,\u001b[0m \u001b[0mself\u001b[0m\u001b[0;34m.\u001b[0m\u001b[0mk\u001b[0m \u001b[0;34m+\u001b[0m \u001b[0;36m1\u001b[0m\u001b[0;34m)\u001b[0m\u001b[0;34m,\u001b[0m \u001b[0mdtype\u001b[0m\u001b[0;34m=\u001b[0m\u001b[0;34m'i8'\u001b[0m\u001b[0;34m)\u001b[0m\u001b[0;34m\u001b[0m\u001b[0;34m\u001b[0m\u001b[0m\n\u001b[1;32m    167\u001b[0m         \u001b[0mcn\u001b[0m \u001b[0;34m=\u001b[0m \u001b[0msparse\u001b[0m\u001b[0;34m.\u001b[0m\u001b[0mlil_matrix\u001b[0m\u001b[0;34m(\u001b[0m\u001b[0;34m(\u001b[0m\u001b[0mself\u001b[0m\u001b[0;34m.\u001b[0m\u001b[0m_num_labels\u001b[0m\u001b[0;34m,\u001b[0m \u001b[0mself\u001b[0m\u001b[0;34m.\u001b[0m\u001b[0mk\u001b[0m \u001b[0;34m+\u001b[0m \u001b[0;36m1\u001b[0m\u001b[0;34m)\u001b[0m\u001b[0;34m,\u001b[0m \u001b[0mdtype\u001b[0m\u001b[0;34m=\u001b[0m\u001b[0;34m'i8'\u001b[0m\u001b[0;34m)\u001b[0m\u001b[0;34m\u001b[0m\u001b[0;34m\u001b[0m\u001b[0m\n",
            "\u001b[0;31mTypeError\u001b[0m: __init__() takes 1 positional argument but 2 were given"
          ]
        }
      ]
    },
    {
      "cell_type": "code",
      "source": [
        ""
      ],
      "metadata": {
        "id": "xeoAkNA7GPQg"
      },
      "execution_count": null,
      "outputs": []
    }
  ]
}